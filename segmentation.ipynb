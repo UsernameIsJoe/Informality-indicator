{
  "cells": [
    {
      "cell_type": "markdown",
      "id": "p9prZYub97t1",
      "metadata": {
        "id": "p9prZYub97t1"
      },
      "source": [
        "# Image Segmentation using Dense Prediction Transformers"
      ]
    },
    {
      "cell_type": "markdown",
      "id": "iC6vNRCP96rm",
      "metadata": {
        "id": "iC6vNRCP96rm"
      },
      "source": [
        "This notebook is based on the github repo on Dense Prediction Transformers: https://github.com/isl-org/DPT & collective effort from course 4.570\n"
      ]
    },
    {
      "cell_type": "markdown",
      "id": "9NXceTzX-PP8",
      "metadata": {
        "id": "9NXceTzX-PP8"
      },
      "source": [
        "Install necessary libraries"
      ]
    },
    {
      "cell_type": "code",
      "execution_count": null,
      "id": "G77nOxbnUVzh",
      "metadata": {
        "id": "G77nOxbnUVzh"
      },
      "outputs": [],
      "source": [
        "!pip install timm"
      ]
    },
    {
      "cell_type": "markdown",
      "id": "bJx-mgP0-t9F",
      "metadata": {
        "id": "bJx-mgP0-t9F"
      },
      "source": [
        "Connect notebook to Google Drive"
      ]
    },
    {
      "cell_type": "code",
      "execution_count": null,
      "id": "XYBWqjWI-crF",
      "metadata": {
        "colab": {
          "base_uri": "https://localhost:8080/"
        },
        "id": "XYBWqjWI-crF",
        "outputId": "92d87f39-69a7-4b20-d278-305117da16bf"
      },
      "outputs": [
        {
          "name": "stdout",
          "output_type": "stream",
          "text": [
            "Mounted at /content/drive\n"
          ]
        }
      ],
      "source": [
        "import os, sys\n",
        "from google.colab import drive\n",
        "\n",
        "drive.mount('/content/drive', force_remount=True)"
      ]
    },
    {
      "cell_type": "code",
      "execution_count": null,
      "id": "JijGiOUkU0hr",
      "metadata": {
        "id": "JijGiOUkU0hr"
      },
      "outputs": [],
      "source": [
        "#change this path to your DPT Segmentation folder\n",
        "os.chdir('/content/drive/MyDrive/0206Demo')"
      ]
    },
    {
      "cell_type": "markdown",
      "id": "4RD97PmN_Bq8",
      "metadata": {
        "id": "4RD97PmN_Bq8"
      },
      "source": [
        "Import necessary libraries"
      ]
    },
    {
      "cell_type": "code",
      "execution_count": null,
      "id": "5MdjaX3fUdHp",
      "metadata": {
        "id": "5MdjaX3fUdHp"
      },
      "outputs": [],
      "source": [
        "import os\n",
        "import glob #for file paths\n",
        "import cv2\n",
        "import argparse\n",
        "\n",
        "import torch\n",
        "import torch.nn.functional as F\n",
        "\n",
        "import util.io\n",
        "\n",
        "from torchvision.transforms import Compose\n",
        "from dpt.models import DPTSegmentationModel\n",
        "from dpt.transforms import Resize, NormalizeImage, PrepareForNet\n",
        "\n",
        "import numpy as np\n",
        "import matplotlib.pyplot as plt\n",
        "import pandas as pd\n",
        "\n",
        "from os import listdir"
      ]
    },
    {
      "cell_type": "markdown",
      "id": "TelMoEUxWDxf",
      "metadata": {
        "id": "TelMoEUxWDxf"
      },
      "source": [
        "List all images in 'input' folder"
      ]
    },
    {
      "cell_type": "code",
      "execution_count": null,
      "id": "wbWcRAZB_NCV",
      "metadata": {
        "colab": {
          "base_uri": "https://localhost:8080/"
        },
        "id": "wbWcRAZB_NCV",
        "outputId": "86e56e0e-c751-4dd5-8878-3e028fda053c"
      },
      "outputs": [
        {
          "name": "stdout",
          "output_type": "stream",
          "text": [
            "['23.1980026 大.jpeg', '2007_11 大.jpeg', '469553383 大.jpeg', 'closeupviewofthefacade_02 大.jpeg', 'calin-stan-Jm0oI-zRn0s-unsplash 大.jpeg', '25987667747_77d6621c48_b 大.jpeg', '122970922-kyoto-japan-november-23-2018-old-japanese-house-in-a-residential-area-in-japan 大.jpeg', '374522630 大.jpeg', '11015 大.jpeg', '92691265-traditional-japanese-house-in-kanazawa-japan 大.jpeg', '231140012 大.jpeg', '402556044 大.jpeg', 'a0002031_main 大.jpeg', '143993278-the-small-town-s-ancient-japanese-houses-of-hida-furukawa-town-gifu-japan 大.jpeg', 'DSCF2059 大.jpeg', 'FFFA9A07-60CA-41DE-8A7B-2F40F821D36B_cx0_cy4_cw0_w1200_r1 大.jpeg', 'exterior-of-old-farmers-house-thatched-roof-jidayubori-park-kitami-setagaya-ku-tokyo-japan-east-asia-asia-2PK085G 大.jpeg', 'exterior-amber-house-southern-higashiyama-1 (Large)-XL 大.jpeg', 'DSCF2072 大.jpeg', 'virtual_house02_pic05 大.jpeg', 'urban-japanese-house-ai 大.jpeg', 'walkJapan-695x469 大.jpeg', 'IMG_9027 大.jpeg', 'urban-japanese-house 大.jpeg', 'istockphoto-598523722-612x612 大.jpeg', 'Japan-houses-6-13-traditional-wood-sided 大.jpeg', 'oth-hoyano-hrk179-2219 大.jpeg', 'IMG_5628+copy 大.jpeg', 'setouchi-cominca-stays-are-saving-japans-architectural-heritage-one-house-at-a-time-3-6011801161476 大.jpeg', 'istockphoto-1219304938-612x612.jpg']\n"
          ]
        }
      ],
      "source": [
        "images = listdir('Exercise1_segmentation/Japan St')\n",
        "print(images)"
      ]
    },
    {
      "cell_type": "markdown",
      "id": "9050KUzvAiVl",
      "metadata": {
        "id": "9050KUzvAiVl"
      },
      "source": [
        "Create empty dataframe of images and visual feature scores"
      ]
    },
    {
      "cell_type": "code",
      "execution_count": null,
      "id": "Wi2T_GPOWME9",
      "metadata": {
        "colab": {
          "base_uri": "https://localhost:8080/",
          "height": 204
        },
        "id": "Wi2T_GPOWME9",
        "outputId": "36af189d-9e90-4298-b137-19b99ddb6833"
      },
      "outputs": [
        {
          "data": {
            "text/html": [
              "\n",
              "  <div id=\"df-04bc787d-c584-4abc-8b01-de6d77d961da\" class=\"colab-df-container\">\n",
              "    <div>\n",
              "<style scoped>\n",
              "    .dataframe tbody tr th:only-of-type {\n",
              "        vertical-align: middle;\n",
              "    }\n",
              "\n",
              "    .dataframe tbody tr th {\n",
              "        vertical-align: top;\n",
              "    }\n",
              "\n",
              "    .dataframe thead th {\n",
              "        text-align: right;\n",
              "    }\n",
              "</style>\n",
              "<table border=\"1\" class=\"dataframe\">\n",
              "  <thead>\n",
              "    <tr style=\"text-align: right;\">\n",
              "      <th></th>\n",
              "      <th>filename</th>\n",
              "    </tr>\n",
              "  </thead>\n",
              "  <tbody>\n",
              "    <tr>\n",
              "      <th>0</th>\n",
              "      <td>23.1980026 大.jpeg</td>\n",
              "    </tr>\n",
              "    <tr>\n",
              "      <th>1</th>\n",
              "      <td>2007_11 大.jpeg</td>\n",
              "    </tr>\n",
              "    <tr>\n",
              "      <th>2</th>\n",
              "      <td>469553383 大.jpeg</td>\n",
              "    </tr>\n",
              "    <tr>\n",
              "      <th>3</th>\n",
              "      <td>closeupviewofthefacade_02 大.jpeg</td>\n",
              "    </tr>\n",
              "    <tr>\n",
              "      <th>4</th>\n",
              "      <td>calin-stan-Jm0oI-zRn0s-unsplash 大.jpeg</td>\n",
              "    </tr>\n",
              "  </tbody>\n",
              "</table>\n",
              "</div>\n",
              "    <div class=\"colab-df-buttons\">\n",
              "\n",
              "  <div class=\"colab-df-container\">\n",
              "    <button class=\"colab-df-convert\" onclick=\"convertToInteractive('df-04bc787d-c584-4abc-8b01-de6d77d961da')\"\n",
              "            title=\"Convert this dataframe to an interactive table.\"\n",
              "            style=\"display:none;\">\n",
              "\n",
              "  <svg xmlns=\"http://www.w3.org/2000/svg\" height=\"24px\" viewBox=\"0 -960 960 960\">\n",
              "    <path d=\"M120-120v-720h720v720H120Zm60-500h600v-160H180v160Zm220 220h160v-160H400v160Zm0 220h160v-160H400v160ZM180-400h160v-160H180v160Zm440 0h160v-160H620v160ZM180-180h160v-160H180v160Zm440 0h160v-160H620v160Z\"/>\n",
              "  </svg>\n",
              "    </button>\n",
              "\n",
              "  <style>\n",
              "    .colab-df-container {\n",
              "      display:flex;\n",
              "      gap: 12px;\n",
              "    }\n",
              "\n",
              "    .colab-df-convert {\n",
              "      background-color: #E8F0FE;\n",
              "      border: none;\n",
              "      border-radius: 50%;\n",
              "      cursor: pointer;\n",
              "      display: none;\n",
              "      fill: #1967D2;\n",
              "      height: 32px;\n",
              "      padding: 0 0 0 0;\n",
              "      width: 32px;\n",
              "    }\n",
              "\n",
              "    .colab-df-convert:hover {\n",
              "      background-color: #E2EBFA;\n",
              "      box-shadow: 0px 1px 2px rgba(60, 64, 67, 0.3), 0px 1px 3px 1px rgba(60, 64, 67, 0.15);\n",
              "      fill: #174EA6;\n",
              "    }\n",
              "\n",
              "    .colab-df-buttons div {\n",
              "      margin-bottom: 4px;\n",
              "    }\n",
              "\n",
              "    [theme=dark] .colab-df-convert {\n",
              "      background-color: #3B4455;\n",
              "      fill: #D2E3FC;\n",
              "    }\n",
              "\n",
              "    [theme=dark] .colab-df-convert:hover {\n",
              "      background-color: #434B5C;\n",
              "      box-shadow: 0px 1px 3px 1px rgba(0, 0, 0, 0.15);\n",
              "      filter: drop-shadow(0px 1px 2px rgba(0, 0, 0, 0.3));\n",
              "      fill: #FFFFFF;\n",
              "    }\n",
              "  </style>\n",
              "\n",
              "    <script>\n",
              "      const buttonEl =\n",
              "        document.querySelector('#df-04bc787d-c584-4abc-8b01-de6d77d961da button.colab-df-convert');\n",
              "      buttonEl.style.display =\n",
              "        google.colab.kernel.accessAllowed ? 'block' : 'none';\n",
              "\n",
              "      async function convertToInteractive(key) {\n",
              "        const element = document.querySelector('#df-04bc787d-c584-4abc-8b01-de6d77d961da');\n",
              "        const dataTable =\n",
              "          await google.colab.kernel.invokeFunction('convertToInteractive',\n",
              "                                                    [key], {});\n",
              "        if (!dataTable) return;\n",
              "\n",
              "        const docLinkHtml = 'Like what you see? Visit the ' +\n",
              "          '<a target=\"_blank\" href=https://colab.research.google.com/notebooks/data_table.ipynb>data table notebook</a>'\n",
              "          + ' to learn more about interactive tables.';\n",
              "        element.innerHTML = '';\n",
              "        dataTable['output_type'] = 'display_data';\n",
              "        await google.colab.output.renderOutput(dataTable, element);\n",
              "        const docLink = document.createElement('div');\n",
              "        docLink.innerHTML = docLinkHtml;\n",
              "        element.appendChild(docLink);\n",
              "      }\n",
              "    </script>\n",
              "  </div>\n",
              "\n",
              "\n",
              "<div id=\"df-1ebd8779-21ff-423b-999d-54338bc1916b\">\n",
              "  <button class=\"colab-df-quickchart\" onclick=\"quickchart('df-1ebd8779-21ff-423b-999d-54338bc1916b')\"\n",
              "            title=\"Suggest charts\"\n",
              "            style=\"display:none;\">\n",
              "\n",
              "<svg xmlns=\"http://www.w3.org/2000/svg\" height=\"24px\"viewBox=\"0 0 24 24\"\n",
              "     width=\"24px\">\n",
              "    <g>\n",
              "        <path d=\"M19 3H5c-1.1 0-2 .9-2 2v14c0 1.1.9 2 2 2h14c1.1 0 2-.9 2-2V5c0-1.1-.9-2-2-2zM9 17H7v-7h2v7zm4 0h-2V7h2v10zm4 0h-2v-4h2v4z\"/>\n",
              "    </g>\n",
              "</svg>\n",
              "  </button>\n",
              "\n",
              "<style>\n",
              "  .colab-df-quickchart {\n",
              "      --bg-color: #E8F0FE;\n",
              "      --fill-color: #1967D2;\n",
              "      --hover-bg-color: #E2EBFA;\n",
              "      --hover-fill-color: #174EA6;\n",
              "      --disabled-fill-color: #AAA;\n",
              "      --disabled-bg-color: #DDD;\n",
              "  }\n",
              "\n",
              "  [theme=dark] .colab-df-quickchart {\n",
              "      --bg-color: #3B4455;\n",
              "      --fill-color: #D2E3FC;\n",
              "      --hover-bg-color: #434B5C;\n",
              "      --hover-fill-color: #FFFFFF;\n",
              "      --disabled-bg-color: #3B4455;\n",
              "      --disabled-fill-color: #666;\n",
              "  }\n",
              "\n",
              "  .colab-df-quickchart {\n",
              "    background-color: var(--bg-color);\n",
              "    border: none;\n",
              "    border-radius: 50%;\n",
              "    cursor: pointer;\n",
              "    display: none;\n",
              "    fill: var(--fill-color);\n",
              "    height: 32px;\n",
              "    padding: 0;\n",
              "    width: 32px;\n",
              "  }\n",
              "\n",
              "  .colab-df-quickchart:hover {\n",
              "    background-color: var(--hover-bg-color);\n",
              "    box-shadow: 0 1px 2px rgba(60, 64, 67, 0.3), 0 1px 3px 1px rgba(60, 64, 67, 0.15);\n",
              "    fill: var(--button-hover-fill-color);\n",
              "  }\n",
              "\n",
              "  .colab-df-quickchart-complete:disabled,\n",
              "  .colab-df-quickchart-complete:disabled:hover {\n",
              "    background-color: var(--disabled-bg-color);\n",
              "    fill: var(--disabled-fill-color);\n",
              "    box-shadow: none;\n",
              "  }\n",
              "\n",
              "  .colab-df-spinner {\n",
              "    border: 2px solid var(--fill-color);\n",
              "    border-color: transparent;\n",
              "    border-bottom-color: var(--fill-color);\n",
              "    animation:\n",
              "      spin 1s steps(1) infinite;\n",
              "  }\n",
              "\n",
              "  @keyframes spin {\n",
              "    0% {\n",
              "      border-color: transparent;\n",
              "      border-bottom-color: var(--fill-color);\n",
              "      border-left-color: var(--fill-color);\n",
              "    }\n",
              "    20% {\n",
              "      border-color: transparent;\n",
              "      border-left-color: var(--fill-color);\n",
              "      border-top-color: var(--fill-color);\n",
              "    }\n",
              "    30% {\n",
              "      border-color: transparent;\n",
              "      border-left-color: var(--fill-color);\n",
              "      border-top-color: var(--fill-color);\n",
              "      border-right-color: var(--fill-color);\n",
              "    }\n",
              "    40% {\n",
              "      border-color: transparent;\n",
              "      border-right-color: var(--fill-color);\n",
              "      border-top-color: var(--fill-color);\n",
              "    }\n",
              "    60% {\n",
              "      border-color: transparent;\n",
              "      border-right-color: var(--fill-color);\n",
              "    }\n",
              "    80% {\n",
              "      border-color: transparent;\n",
              "      border-right-color: var(--fill-color);\n",
              "      border-bottom-color: var(--fill-color);\n",
              "    }\n",
              "    90% {\n",
              "      border-color: transparent;\n",
              "      border-bottom-color: var(--fill-color);\n",
              "    }\n",
              "  }\n",
              "</style>\n",
              "\n",
              "  <script>\n",
              "    async function quickchart(key) {\n",
              "      const quickchartButtonEl =\n",
              "        document.querySelector('#' + key + ' button');\n",
              "      quickchartButtonEl.disabled = true;  // To prevent multiple clicks.\n",
              "      quickchartButtonEl.classList.add('colab-df-spinner');\n",
              "      try {\n",
              "        const charts = await google.colab.kernel.invokeFunction(\n",
              "            'suggestCharts', [key], {});\n",
              "      } catch (error) {\n",
              "        console.error('Error during call to suggestCharts:', error);\n",
              "      }\n",
              "      quickchartButtonEl.classList.remove('colab-df-spinner');\n",
              "      quickchartButtonEl.classList.add('colab-df-quickchart-complete');\n",
              "    }\n",
              "    (() => {\n",
              "      let quickchartButtonEl =\n",
              "        document.querySelector('#df-1ebd8779-21ff-423b-999d-54338bc1916b button');\n",
              "      quickchartButtonEl.style.display =\n",
              "        google.colab.kernel.accessAllowed ? 'block' : 'none';\n",
              "    })();\n",
              "  </script>\n",
              "</div>\n",
              "\n",
              "    </div>\n",
              "  </div>\n"
            ],
            "text/plain": [
              "                                 filename\n",
              "0                       23.1980026 大.jpeg\n",
              "1                          2007_11 大.jpeg\n",
              "2                        469553383 大.jpeg\n",
              "3        closeupviewofthefacade_02 大.jpeg\n",
              "4  calin-stan-Jm0oI-zRn0s-unsplash 大.jpeg"
            ]
          },
          "execution_count": 27,
          "metadata": {},
          "output_type": "execute_result"
        }
      ],
      "source": [
        "images_df = pd.DataFrame(images)\n",
        "images_df.columns = ['filename']\n",
        "images_df.head()"
      ]
    },
    {
      "cell_type": "code",
      "execution_count": null,
      "id": "2ydkYikMNzLL",
      "metadata": {
        "id": "2ydkYikMNzLL"
      },
      "outputs": [],
      "source": [
        "labels = ['wall', 'building', 'sky', 'floor', 'tree', 'ceiling', 'road', 'bed', 'window', 'grass', 'cabinet', 'sidewalk', 'person', 'earth', 'door', 'table', 'mountain', 'plant', 'curtain', 'chair', 'car', 'water', 'painting', 'sofa', 'shelf', 'house', 'sea', 'mirror', 'rug', 'field', 'armchair', 'seat', 'fence', 'desk', 'rock', 'wardrobe', 'lamp', 'bathtub', 'railing', 'cushion', 'base', 'box', 'column', 'signboard', 'dresser', 'counter', 'sand', 'sink', 'skyscraper', 'fireplace', 'refrigerator', 'grandstand', 'path', 'stairs', 'runway', 'case', 'pooltable', 'pillow', 'screen', 'stairway', 'river', 'bridge', 'bookcase', 'blind', 'coffeetable', 'toilet', 'flower', 'book', 'hill', 'bench', 'countertop', 'stove', 'palmtree', 'kitchen', 'computer', 'swivelchair', 'boat', 'bar', 'arcade', 'hut', 'bus', 'towel', 'light', 'truck', 'tower', 'chandelier', 'awning', 'streetlight', 'booth', 'television', 'airplane', 'dirttrack', 'apparel', 'pole', 'land', 'balustrade', 'escalator', 'ottoman', 'bottle', 'sideboard', 'poster', 'stage', 'van', 'ship', 'fountain', 'conveyerbelt', 'canopy', 'washer', 'toy', 'pool', 'stool', 'barrel', 'basket', 'waterfall', 'tent', 'bag', 'motorbike', 'cradle', 'oven', 'ball', 'food', 'step', 'tank', 'brandname', 'microwave', 'pot', 'animal', 'bicycle', 'lake', 'dishwasher', 'screen', 'blanket', 'sculpture', 'hood', 'sconce', 'vase', 'trafficlight', 'tray', 'trashcan', 'fan', 'pier', 'crtscreen', 'plate', 'monitor', 'bulletinboard', 'shower', 'radiator', 'glass', 'clock', 'flag']"
      ]
    },
    {
      "cell_type": "code",
      "execution_count": null,
      "id": "MdagKHyyWL9a",
      "metadata": {
        "id": "MdagKHyyWL9a"
      },
      "outputs": [],
      "source": [
        "for i in range(0,150):\n",
        "    images_df[labels[i]] = 0\n",
        "\n",
        "images_df.head()"
      ]
    },
    {
      "cell_type": "markdown",
      "id": "RA0ijBmlBOmi",
      "metadata": {
        "id": "RA0ijBmlBOmi"
      },
      "source": [
        "Initialize the DPT model for prediction"
      ]
    },
    {
      "cell_type": "code",
      "execution_count": null,
      "id": "e9b8958b",
      "metadata": {
        "id": "e9b8958b"
      },
      "outputs": [],
      "source": [
        "model_path = \"weights/dpt_hybrid-ade20k-53898607.pt\"\n",
        "model_type = 'dpt_hybrid'\n",
        "optimize = True"
      ]
    },
    {
      "cell_type": "code",
      "execution_count": null,
      "id": "4b68d001",
      "metadata": {
        "id": "4b68d001",
        "scrolled": true
      },
      "outputs": [],
      "source": [
        "#INITIALIZE MODEL - This may take a while.\n",
        "\"\"\"Run segmentation network\n",
        "\n",
        "Args:\n",
        "    input_path (str): path to input folder\n",
        "    output_path (str): path to output folder\n",
        "    model_path (str): path to saved model\n",
        "\"\"\"\n",
        "print(\"initialize\")\n",
        "\n",
        "# select device\n",
        "device = torch.device(\"cuda\" if torch.cuda.is_available() else \"cpu\")\n",
        "print(\"device: %s\" % device)\n",
        "\n",
        "net_w = net_h = 480\n",
        "\n",
        "# load network\n",
        "if model_type == \"dpt_large\":\n",
        "    model = DPTSegmentationModel(\n",
        "        150,\n",
        "        path=model_path,\n",
        "        backbone=\"vitl16_384\",\n",
        "    )\n",
        "elif model_type == \"dpt_hybrid\":\n",
        "    model = DPTSegmentationModel(\n",
        "        150,\n",
        "        path=model_path,\n",
        "        backbone=\"vitb_rn50_384\",\n",
        "    )\n",
        "else:\n",
        "    assert (\n",
        "        False\n",
        "    ), f\"model_type '{model_type}' not implemented, use: --model_type [dpt_large|dpt_hybrid]\"\n",
        "\n",
        "transform = Compose(\n",
        "    [\n",
        "        Resize(\n",
        "            net_w,\n",
        "            net_h,\n",
        "            resize_target=None,\n",
        "            keep_aspect_ratio=True,\n",
        "            ensure_multiple_of=32,\n",
        "            resize_method=\"minimal\",\n",
        "            image_interpolation_method=cv2.INTER_CUBIC,\n",
        "        ),\n",
        "        NormalizeImage(mean=[0.5, 0.5, 0.5], std=[0.5, 0.5, 0.5]),\n",
        "        PrepareForNet(),\n",
        "    ]\n",
        ")\n",
        "\n",
        "model.eval()\n",
        "\n",
        "if optimize == True and device == torch.device(\"cuda\"):\n",
        "    model = model.to(memory_format=torch.channels_last)\n",
        "    model = model.half()\n",
        "\n",
        "model.to(device)"
      ]
    },
    {
      "cell_type": "markdown",
      "id": "OcZmqKK1XNMy",
      "metadata": {
        "id": "OcZmqKK1XNMy"
      },
      "source": [
        "Loop through the dataframe and populate the feature scores by running the DPT model on each file."
      ]
    },
    {
      "cell_type": "code",
      "execution_count": null,
      "id": "xHlXGYtnacjN",
      "metadata": {
        "id": "xHlXGYtnacjN"
      },
      "outputs": [],
      "source": [
        "input_path = \"Exercise1_segmentation/Japan St\"\n",
        "output_path = \"Exercise1_segmentation/JapanOut\"\n",
        "savename = \"images_scores_Japan.csv\""
      ]
    },
    {
      "cell_type": "code",
      "execution_count": null,
      "id": "0a7ab63d",
      "metadata": {
        "id": "0a7ab63d"
      },
      "outputs": [],
      "source": [
        "start_index = 0\n",
        "for i in range(start_index,len(images_df)):\n",
        "    print(\"Processing file \"+str(i+1)+\"/\"+str(len(images_df)))\n",
        "\n",
        "    filename = images_df.iloc[i]['filename']\n",
        "    img_name = input_path+'/'+filename\n",
        "    print(img_name)\n",
        "\n",
        "    # input\n",
        "    img = util.io.read_image(img_name)\n",
        "    img_input = transform({\"image\": img})[\"image\"]\n",
        "\n",
        "    # compute\n",
        "    with torch.no_grad():\n",
        "        sample = torch.from_numpy(img_input).to(device).unsqueeze(0)\n",
        "        if optimize == True and device == torch.device(\"cuda\"):\n",
        "            sample = sample.to(memory_format=torch.channels_last)\n",
        "            sample = sample.half()\n",
        "\n",
        "        out = model.forward(sample)\n",
        "\n",
        "        prediction = torch.nn.functional.interpolate(\n",
        "            out, size=img.shape[:2], mode=\"bicubic\", align_corners=False\n",
        "        )\n",
        "        prediction = torch.argmax(prediction, dim=1) + 1\n",
        "        prediction = prediction.squeeze().cpu().numpy()\n",
        "\n",
        "        for j in range(1,151):\n",
        "            score = prediction[prediction == j].size/prediction.size\n",
        "            images_df[labels[j-1]].iloc[i] = score\n",
        "\n",
        "    #save file after every 50 images\n",
        "    if(i%50) == 0:\n",
        "        images_df.to_csv(output_path+'/'+savename)\n",
        "        print(\"File_Saved\")\n",
        "\n",
        "    # save segmentation output image in output folder\n",
        "    filepath = os.path.join(output_path, os.path.splitext(os.path.basename(img_name))[0])\n",
        "    util.io.write_segm_img(filepath, img, prediction, alpha=1)\n",
        "\n",
        "images_df.to_csv(output_path+'/'+savename)\n",
        "print(\"File_Saved\")\n",
        "print(\"finished\")"
      ]
    }
  ],
  "metadata": {
    "accelerator": "GPU",
    "colab": {
      "provenance": []
    },
    "gpuClass": "standard",
    "kernelspec": {
      "display_name": "Python 3 (ipykernel)",
      "language": "python",
      "name": "python3"
    },
    "language_info": {
      "codemirror_mode": {
        "name": "ipython",
        "version": 3
      },
      "file_extension": ".py",
      "mimetype": "text/x-python",
      "name": "python",
      "nbconvert_exporter": "python",
      "pygments_lexer": "ipython3",
      "version": "3.9.12"
    }
  },
  "nbformat": 4,
  "nbformat_minor": 5
}
